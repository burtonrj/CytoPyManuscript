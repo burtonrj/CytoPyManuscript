{
 "cells": [
  {
   "cell_type": "code",
   "execution_count": 1,
   "metadata": {},
   "outputs": [],
   "source": [
    "# Connect to local database\n",
    "from CytoPy.data.setup import global_init\n",
    "global_init(\"cytopy_db\")\n",
    "# CytoPy imports\n",
    "from CytoPy.data.project import Project\n",
    "from CytoPy.data.read_write import get_fcs_file_paths\n",
    "import pandas as pd"
   ]
  },
  {
   "cell_type": "markdown",
   "metadata": {},
   "source": [
    "<h2>Create project</h2>\n",
    "\n",
    "Start by creating the peritonitis `Project`"
   ]
  },
  {
   "cell_type": "code",
   "execution_count": 2,
   "metadata": {},
   "outputs": [],
   "source": [
    "#HDF5 files will be stored locally at /media/ross/SP PHD U3/PD_CytoPy\n",
    "peritonitis = Project(project_id=\"Peritonitis\", data_directory=\"/media/ross/SP PHD U3/PD_CytoPy\")\n",
    "peritonitis.save()"
   ]
  },
  {
   "cell_type": "code",
   "execution_count": 2,
   "metadata": {},
   "outputs": [],
   "source": [
    "peritonitis = Project.objects(project_id=\"Peritonitis\").get()"
   ]
  },
  {
   "cell_type": "markdown",
   "metadata": {},
   "source": [
    "<h2>Add subjects</h2>"
   ]
  },
  {
   "cell_type": "code",
   "execution_count": 7,
   "metadata": {},
   "outputs": [],
   "source": [
    "# Load patient meta data as a Pandas DataFrame\n",
    "patient_meta = pd.read_csv(\"patient_categories.csv\")"
   ]
  },
  {
   "cell_type": "markdown",
   "metadata": {},
   "source": [
    "For each patient I'm going to create a new `Subject` associated to my peritonitis project using the `add_subject` method. The subject will contain the fields: status and infection_data. Infectious data is a embedded field with the additional fields bacterial_isolate and gram_status. This is easy to create by just passing a dictionary. The subject is dynamic and can accept complex meta data to accomodate different project designs a"
   ]
  },
  {
   "cell_type": "code",
   "execution_count": 5,
   "metadata": {},
   "outputs": [],
   "source": [
    "patients = patient_meta.study_id.values\n",
    "for p in patients:\n",
    "    meta = patient_meta[patient_meta.study_id == p].to_dict(\"records\")[0]\n",
    "    peritonitis.add_subject(subject_id=p,\n",
    "                            status=meta.get(\"status\"),\n",
    "                            infection_data={\"bacterial_isolate\": meta.get(\"bacterial_isolate\"),\n",
    "                                            \"gram_status\": meta.get(\"gram_status\")})"
   ]
  },
  {
   "cell_type": "markdown",
   "metadata": {},
   "source": [
    "<h2>Create experiment and add files</h2>"
   ]
  },
  {
   "cell_type": "code",
   "execution_count": 6,
   "metadata": {},
   "outputs": [
    {
     "data": {
      "text/plain": [
       "<Experiment: Experiment object>"
      ]
     },
     "execution_count": 6,
     "metadata": {},
     "output_type": "execute_result"
    }
   ],
   "source": [
    "# Add an experiment with to house T cells from PBMCs. The staining definition is \n",
    "# provided as an excel template\n",
    "peritonitis.add_experiment(experiment_id=\"PBMC T cells\", panel_definition=\"panels/T_Panel.xlsx\")"
   ]
  },
  {
   "cell_type": "code",
   "execution_count": 3,
   "metadata": {},
   "outputs": [],
   "source": [
    "t_cells_pbmc = peritonitis.load_experiment(\"PBMC T cells\")"
   ]
  },
  {
   "cell_type": "markdown",
   "metadata": {},
   "source": [
    "The function below is custom to thise project but makes use of the `get_fcs_file_paths`, a utility function in CytoPy that makes locating fcs files easier."
   ]
  },
  {
   "cell_type": "code",
   "execution_count": 4,
   "metadata": {},
   "outputs": [],
   "source": [
    "def filepaths(pt_id: str, ctrls: list):\n",
    "    \"\"\"\n",
    "    Given a patient identifier from the Peritonitis project, search the local data \n",
    "    repository for fcs files. Locate the primary staining and any controls (if provided).\n",
    "    \n",
    "    Returns\n",
    "    -------\n",
    "    str, dict\n",
    "        Path to primary staining, dictionary of control staining file paths\n",
    "    \"\"\"\n",
    "    dirpath = f\"/home/ross/CytoPyProjects/CytoPy_Manuscript/02 Validation/setup/data/{pt_id}\"\n",
    "    filepaths = get_fcs_file_paths(dirpath,\n",
    "                                   control_names=ctrls,\n",
    "                                   ctrl_id=\"FMO\",\n",
    "                                   ignore_comp=True,\n",
    "                                   exclude_dir=\"DUPLICATE\")\n",
    "    if len(filepaths.get(\"primary\")) == 0:\n",
    "        print(f\"WARNING: no primary files found for {pt_id} in {panel}\")\n",
    "        return None, None\n",
    "    if len(filepaths.get(\"primary\")) > 1:\n",
    "        print(f\"WARNING: multiple primary files found for {pt_id} in {panel}\")\n",
    "        return None, None\n",
    "    primary = filepaths.get(\"primary\")[0]\n",
    "    controls = filepaths.get(\"controls\")\n",
    "    if len(controls) > 0:\n",
    "        controls = {x: v[0] for x, v in controls.items()}\n",
    "    return primary, controls"
   ]
  },
  {
   "cell_type": "markdown",
   "metadata": {},
   "source": [
    "Iterate over each patient and populate the experiment using fcs files."
   ]
  },
  {
   "cell_type": "code",
   "execution_count": 5,
   "metadata": {},
   "outputs": [],
   "source": [
    "t_ctrls = [\"CXCR3\", \"CD25\", \"CD45RA\", \"CCR7\"]"
   ]
  },
  {
   "cell_type": "code",
   "execution_count": 10,
   "metadata": {},
   "outputs": [
    {
     "name": "stdout",
     "output_type": "stream",
     "text": [
      "======== 165-09 ========\n",
      "Warning: no file found for CD25 control\n"
     ]
    },
    {
     "name": "stderr",
     "output_type": "stream",
     "text": [
      "/home/ross/CytoPy/CytoPy/data/experiment.py:372: UserWarning: Missing channel FSC-W\n",
      "  warn(f\"Missing channel {x.standard}\")\n"
     ]
    },
    {
     "name": "stdout",
     "output_type": "stream",
     "text": [
      "==========================\n",
      "\n",
      "======== 175-09 ========\n",
      "Warning: no file found for CD25 control\n",
      "==========================\n",
      "\n",
      "======== 210-14 ========\n",
      "Warning: no file found for CD25 control\n",
      "==========================\n",
      "\n",
      "======== 251-07 ========\n",
      "Warning: no file found for CD25 control\n",
      "==========================\n",
      "\n",
      "======== 254-05 ========\n",
      "Warning: no file found for CD25 control\n",
      "==========================\n",
      "\n",
      "======== 255-04 ========\n",
      "Warning: no file found for CD25 control\n",
      "==========================\n",
      "\n",
      "======== 264-02 ========\n",
      "Warning: no file found for CD25 control\n",
      "==========================\n",
      "\n",
      "======== 273-01 ========\n",
      "Warning: no file found for CD25 control\n",
      "==========================\n",
      "\n",
      "======== 286-04 ========\n",
      "Warning: no file found for CD25 control\n",
      "==========================\n",
      "\n",
      "======== 294-02 ========\n",
      "Warning: no file found for CD25 control\n"
     ]
    },
    {
     "name": "stderr",
     "output_type": "stream",
     "text": [
      "/home/ross/CytoPy/CytoPy/data/experiment.py:372: UserWarning: Missing channel SSC-H\n",
      "  warn(f\"Missing channel {x.standard}\")\n"
     ]
    },
    {
     "name": "stdout",
     "output_type": "stream",
     "text": [
      "==========================\n",
      "\n",
      "======== 305-02 ========\n",
      "Warning: no file found for CD25 control\n",
      "==========================\n",
      "\n",
      "======== 306-01 ========\n",
      "Warning: no file found for CD25 control\n",
      "==========================\n",
      "\n",
      "======== 310-01 ========\n",
      "Warning: no file found for CD25 control\n",
      "==========================\n",
      "\n",
      "======== 318-01 ========\n",
      "Warning: no file found for CD25 control\n",
      "==========================\n",
      "\n"
     ]
    }
   ],
   "source": [
    "for pt_id in patients:\n",
    "    print(f\"======== {pt_id} ========\")\n",
    "    primary, controls = filepaths(pt_id, t_ctrls)\n",
    "    if primary is not None:\n",
    "        t_cells_pbmc.add_fcs_files(sample_id=pt_id,\n",
    "                                   primary=primary,\n",
    "                                   controls=controls,\n",
    "                                   subject_id=pt_id,\n",
    "                                   compensate=True,\n",
    "                                   verbose=False,\n",
    "                                   missing_error=\"warn\")\n",
    "    \n",
    "    print(\"==========================\\n\")"
   ]
  },
  {
   "cell_type": "code",
   "execution_count": null,
   "metadata": {},
   "outputs": [],
   "source": []
  }
 ],
 "metadata": {
  "kernelspec": {
   "display_name": "CytoPy",
   "language": "python",
   "name": "cytopy"
  },
  "language_info": {
   "codemirror_mode": {
    "name": "ipython",
    "version": 3
   },
   "file_extension": ".py",
   "mimetype": "text/x-python",
   "name": "python",
   "nbconvert_exporter": "python",
   "pygments_lexer": "ipython3",
   "version": "3.8.5"
  },
  "latex_envs": {
   "LaTeX_envs_menu_present": true,
   "autoclose": false,
   "autocomplete": true,
   "bibliofile": "biblio.bib",
   "cite_by": "apalike",
   "current_citInitial": 1,
   "eqLabelWithNumbers": true,
   "eqNumInitial": 1,
   "hotkeys": {
    "equation": "Ctrl-E",
    "itemize": "Ctrl-I"
   },
   "labels_anchors": false,
   "latex_user_defs": false,
   "report_style_numbering": false,
   "user_envs_cfg": false
  },
  "toc": {
   "base_numbering": 1,
   "nav_menu": {},
   "number_sections": true,
   "sideBar": true,
   "skip_h1_title": false,
   "title_cell": "Table of Contents",
   "title_sidebar": "Contents",
   "toc_cell": false,
   "toc_position": {},
   "toc_section_display": true,
   "toc_window_display": false
  },
  "varInspector": {
   "cols": {
    "lenName": 16,
    "lenType": 16,
    "lenVar": 40
   },
   "kernels_config": {
    "python": {
     "delete_cmd_postfix": "",
     "delete_cmd_prefix": "del ",
     "library": "var_list.py",
     "varRefreshCmd": "print(var_dic_list())"
    },
    "r": {
     "delete_cmd_postfix": ") ",
     "delete_cmd_prefix": "rm(",
     "library": "var_list.r",
     "varRefreshCmd": "cat(var_dic_list()) "
    }
   },
   "types_to_exclude": [
    "module",
    "function",
    "builtin_function_or_method",
    "instance",
    "_Feature"
   ],
   "window_display": false
  }
 },
 "nbformat": 4,
 "nbformat_minor": 4
}
