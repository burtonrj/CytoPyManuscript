{
 "cells": [
  {
   "cell_type": "code",
   "execution_count": 1,
   "metadata": {},
   "outputs": [],
   "source": [
    "# Connect to the local database\n",
    "from cytopy.data.setup import global_init\n",
    "global_init(\"cytopy_db\")\n",
    "# CytoPy imports\n",
    "from cytopy.data.project import Project\n",
    "from cytopy.data.read_write import get_fcs_file_paths\n",
    "# Other additional imports\n",
    "from tqdm.auto import tqdm\n",
    "import pandas as pd\n",
    "import os"
   ]
  },
  {
   "cell_type": "markdown",
   "metadata": {},
   "source": [
    "<h1>Setting up the FlowCAP project</h1>"
   ]
  },
  {
   "cell_type": "markdown",
   "metadata": {},
   "source": [
    "Create a `Project` document for FlowCAP. I need to specify the project ID and where to store HDF5 files locally; these will house the single cell data."
   ]
  },
  {
   "cell_type": "code",
   "execution_count": 2,
   "metadata": {},
   "outputs": [
    {
     "data": {
      "text/plain": [
       "<Project: Project object>"
      ]
     },
     "execution_count": 2,
     "metadata": {},
     "output_type": "execute_result"
    }
   ],
   "source": [
    "flowcap = Project(project_id=\"FlowCAP\", data_directory=\"/media/ross/SP PHD U3/FlowCAP_CytoPy\")\n",
    "flowcap.save()"
   ]
  },
  {
   "cell_type": "markdown",
   "metadata": {},
   "source": [
    "We can reload the project using the `objects` method of `Project` with the query `project_id=\"FlowCAP\"`. This generates a `QuerySet`; a list of documents where the query is `True`. We expect there to only be one document therefore we can use the `get` method to fetch the `Project`. This syntax can be used for any mongoengine document, but we will rarely need to interact with documents this way beyond the `Project` document.\n",
    "\n",
    "I'm going to create an experiment for each of the datasets in the FlowCAP project. These datasets will be used for validation of the `CellClassifier` in a later notebook. To add an experiment, I use the `add_experiment` method, specifying the panel template (an excel file stored in the panels folder in the same directory as this notebook) and a unique identifier for the experiment."
   ]
  },
  {
   "cell_type": "code",
   "execution_count": 3,
   "metadata": {},
   "outputs": [],
   "source": [
    "# We can reload the project document using the object method\n",
    "flowcap = Project.objects(project_id=\"FlowCAP\").get()\n",
    "for x in [\"CFSE\", \"GvHD\", \"Lymph\", \"NDD\", \"StemCell\"]:\n",
    "    flowcap.add_experiment(experiment_id=x,\n",
    "                           panel_definition=f\"panels/flowcap/{x}.xlsx\")"
   ]
  },
  {
   "cell_type": "markdown",
   "metadata": {},
   "source": [
    "Below I've created a little utility function to help add fcs files to my experiments. The fcs files are added in sequence using the `add_fcs_files` method. The files don't require any compensation and for a couple of files I'm expecting a channel to be missing, so I tell CytoPy to just warn me and not throw an error."
   ]
  },
  {
   "cell_type": "code",
   "execution_count": 4,
   "metadata": {},
   "outputs": [],
   "source": [
    "def add_fcs_files(experiment,\n",
    "                  fcs_dir):\n",
    "    files = [f for f in os.listdir(fcs_dir) if f.endswith(\".fcs\")]\n",
    "    for f in tqdm(files):\n",
    "        filepath = os.path.join(fcs_dir, f)\n",
    "        experiment.add_fcs_files(sample_id=f.replace(\".fcs\", \"\"),\n",
    "                                 primary=filepath,\n",
    "                                 compensate=False,\n",
    "                                 verbose=False,\n",
    "                                 missing_error=\"warn\")"
   ]
  },
  {
   "cell_type": "code",
   "execution_count": 1,
   "metadata": {},
   "outputs": [],
   "source": [
    "# Local path where FlowCAP fcs files are kept\n",
    "dirpath = \"/media/ross/extdrive/FlowCAP/FlowCAP1/Data/FCM/fcs\""
   ]
  },
  {
   "cell_type": "code",
   "execution_count": 6,
   "metadata": {},
   "outputs": [],
   "source": [
    "cfse = flowcap.get_experiment(\"CFSE\")\n",
    "gvhd = flowcap.get_experiment(\"GvHD\")\n",
    "lymph = flowcap.get_experiment(\"Lymph\")\n",
    "ndd = flowcap.get_experiment(\"NDD\")\n",
    "stemcell = flowcap.get_experiment(\"StemCell\")"
   ]
  },
  {
   "cell_type": "code",
   "execution_count": 7,
   "metadata": {},
   "outputs": [
    {
     "data": {
      "application/vnd.jupyter.widget-view+json": {
       "model_id": "2cfd8d4e2dbb46a192ead5819a701ef8",
       "version_major": 2,
       "version_minor": 0
      },
      "text/plain": [
       "  0%|          | 0/13 [00:00<?, ?it/s]"
      ]
     },
     "metadata": {},
     "output_type": "display_data"
    }
   ],
   "source": [
    "add_fcs_files(cfse, f\"{dirpath}/CFSE/FCS\")"
   ]
  },
  {
   "cell_type": "code",
   "execution_count": 8,
   "metadata": {},
   "outputs": [
    {
     "data": {
      "application/vnd.jupyter.widget-view+json": {
       "model_id": "278cd9b0d6a643209d86a725faae241e",
       "version_major": 2,
       "version_minor": 0
      },
      "text/plain": [
       "  0%|          | 0/12 [00:00<?, ?it/s]"
      ]
     },
     "metadata": {},
     "output_type": "display_data"
    }
   ],
   "source": [
    "add_fcs_files(gvhd, f\"{dirpath}/GvHD/FCS\")"
   ]
  },
  {
   "cell_type": "code",
   "execution_count": 9,
   "metadata": {},
   "outputs": [
    {
     "data": {
      "application/vnd.jupyter.widget-view+json": {
       "model_id": "b5756076107f44038580d94361feaaf3",
       "version_major": 2,
       "version_minor": 0
      },
      "text/plain": [
       "  0%|          | 0/30 [00:00<?, ?it/s]"
      ]
     },
     "metadata": {},
     "output_type": "display_data"
    },
    {
     "name": "stderr",
     "output_type": "stream",
     "text": [
      "/home/ross/CytoPy/CytoPy/data/experiment.py:372: UserWarning: Missing channel FL4.H\n",
      "  warn(f\"Missing channel {x.standard}\")\n"
     ]
    }
   ],
   "source": [
    "add_fcs_files(lymph, f\"{dirpath}/Lymph/FCS\")"
   ]
  },
  {
   "cell_type": "code",
   "execution_count": 10,
   "metadata": {},
   "outputs": [
    {
     "data": {
      "application/vnd.jupyter.widget-view+json": {
       "model_id": "2089df24f13d4bc1a7e6a8806203d9dc",
       "version_major": 2,
       "version_minor": 0
      },
      "text/plain": [
       "  0%|          | 0/30 [00:00<?, ?it/s]"
      ]
     },
     "metadata": {},
     "output_type": "display_data"
    }
   ],
   "source": [
    "add_fcs_files(ndd, f\"{dirpath}/NDD/FCS\")"
   ]
  },
  {
   "cell_type": "code",
   "execution_count": 11,
   "metadata": {},
   "outputs": [
    {
     "data": {
      "application/vnd.jupyter.widget-view+json": {
       "model_id": "8a3adc88865742d09cfc9b1472b7bf79",
       "version_major": 2,
       "version_minor": 0
      },
      "text/plain": [
       "  0%|          | 0/30 [00:00<?, ?it/s]"
      ]
     },
     "metadata": {},
     "output_type": "display_data"
    }
   ],
   "source": [
    "add_fcs_files(stemcell, f\"{dirpath}/StemCell/FCS\")"
   ]
  },
  {
   "cell_type": "code",
   "execution_count": null,
   "metadata": {},
   "outputs": [],
   "source": []
  }
 ],
 "metadata": {
  "kernelspec": {
   "display_name": "CytoPy",
   "language": "python",
   "name": "cytopy"
  },
  "language_info": {
   "codemirror_mode": {
    "name": "ipython",
    "version": 3
   },
   "file_extension": ".py",
   "mimetype": "text/x-python",
   "name": "python",
   "nbconvert_exporter": "python",
   "pygments_lexer": "ipython3",
   "version": "3.8.5"
  },
  "latex_envs": {
   "LaTeX_envs_menu_present": true,
   "autoclose": false,
   "autocomplete": true,
   "bibliofile": "biblio.bib",
   "cite_by": "apalike",
   "current_citInitial": 1,
   "eqLabelWithNumbers": true,
   "eqNumInitial": 1,
   "hotkeys": {
    "equation": "Ctrl-E",
    "itemize": "Ctrl-I"
   },
   "labels_anchors": false,
   "latex_user_defs": false,
   "report_style_numbering": false,
   "user_envs_cfg": false
  },
  "toc": {
   "base_numbering": 1,
   "nav_menu": {},
   "number_sections": true,
   "sideBar": true,
   "skip_h1_title": false,
   "title_cell": "Table of Contents",
   "title_sidebar": "Contents",
   "toc_cell": false,
   "toc_position": {},
   "toc_section_display": true,
   "toc_window_display": false
  },
  "varInspector": {
   "cols": {
    "lenName": 16,
    "lenType": 16,
    "lenVar": 40
   },
   "kernels_config": {
    "python": {
     "delete_cmd_postfix": "",
     "delete_cmd_prefix": "del ",
     "library": "var_list.py",
     "varRefreshCmd": "print(var_dic_list())"
    },
    "r": {
     "delete_cmd_postfix": ") ",
     "delete_cmd_prefix": "rm(",
     "library": "var_list.r",
     "varRefreshCmd": "cat(var_dic_list()) "
    }
   },
   "types_to_exclude": [
    "module",
    "function",
    "builtin_function_or_method",
    "instance",
    "_Feature"
   ],
   "window_display": false
  }
 },
 "nbformat": 4,
 "nbformat_minor": 4
}
